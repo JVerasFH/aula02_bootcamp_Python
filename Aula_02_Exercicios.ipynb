{
 "cells": [
  {
   "cell_type": "markdown",
   "id": "cabc6931",
   "metadata": {},
   "source": [
    "# Exercícios"
   ]
  },
  {
   "cell_type": "markdown",
   "id": "afff0799",
   "metadata": {},
   "source": [
    "#### Inteiros (`int`)"
   ]
  },
  {
   "cell_type": "code",
   "execution_count": null,
   "id": "56bf8555",
   "metadata": {},
   "outputs": [
    {
     "name": "stdout",
     "output_type": "stream",
     "text": [
      "4.0\n"
     ]
    }
   ],
   "source": [
    "# 1. Escreva um programa que soma dois números inteiros inseridos pelo usuário.\n",
    "\n",
    "numero_01 = float(input(\"Digite um número: \"))\n",
    "numero_02 = float(input(\"Digite um número: \"))\n",
    "soma = numero_01 + numero_02\n",
    "print(\"A soma é: \", soma)"
   ]
  },
  {
   "cell_type": "code",
   "execution_count": 4,
   "id": "e6179c10",
   "metadata": {},
   "outputs": [
    {
     "name": "stdout",
     "output_type": "stream",
     "text": [
      "O resto da divisão por 5 é:  0.0\n"
     ]
    }
   ],
   "source": [
    "# 2. Crie um programa que receba um número do usuário e calcule o resto da divisão desse número por 5.\n",
    "\n",
    "numero_01 = float(input(\"Digite um número: \"))\n",
    "divisao = numero_01 % 5\n",
    "print(\"O resto da divisão por 5 é: \", divisao)"
   ]
  },
  {
   "cell_type": "code",
   "execution_count": 5,
   "id": "a68c477d",
   "metadata": {},
   "outputs": [
    {
     "name": "stdout",
     "output_type": "stream",
     "text": [
      "A multiplicação é:  4.0\n"
     ]
    }
   ],
   "source": [
    "# 3. Desenvolva um programa que multiplique dois números fornecidos pelo usuário e mostre o resultado.\n",
    "\n",
    "numero_01 = float(input(\"Digite um número: \"))\n",
    "numero_02 = float(input(\"Digite um número: \"))\n",
    "multiplicacao = numero_01 * numero_02\n",
    "print(\"A multiplicação é: \", multiplicacao)"
   ]
  },
  {
   "cell_type": "code",
   "execution_count": 8,
   "id": "cfae9e7b",
   "metadata": {},
   "outputs": [
    {
     "name": "stdout",
     "output_type": "stream",
     "text": [
      "A divisão é:  1.0\n"
     ]
    }
   ],
   "source": [
    "# 4. Faça um programa que peça dois números inteiros e imprima a divisão inteira do primeiro pelo segundo.\n",
    "numero_01 = float(input(\"Digite um número: \"))\n",
    "numero_02 = float(input(\"Digite um número: \"))\n",
    "divisao = numero_01 // numero_02\n",
    "print(\"A divisão é: \", divisao)"
   ]
  },
  {
   "cell_type": "code",
   "execution_count": null,
   "id": "a3ce4fbb",
   "metadata": {},
   "outputs": [
    {
     "name": "stdout",
     "output_type": "stream",
     "text": [
      "A potência é:  4.0\n"
     ]
    }
   ],
   "source": [
    "# 5. Escreva um programa que calcule o quadrado de um número fornecido pelo usuário.\n",
    "numero_01 = float(input(\"Digite um número: \"))\n",
    "quadrado = numero_01 ** 2\n",
    "print(\"O quadradado do número é: \", quadrado)"
   ]
  },
  {
   "cell_type": "markdown",
   "id": "c23df38e",
   "metadata": {},
   "source": [
    "#### Números de Ponto Flutuante (`float`)"
   ]
  },
  {
   "cell_type": "code",
   "execution_count": null,
   "id": "334f5c8e",
   "metadata": {},
   "outputs": [
    {
     "name": "stdout",
     "output_type": "stream",
     "text": [
      "A soma dos números é:  4.8\n"
     ]
    }
   ],
   "source": [
    "# 6. Escreva um programa que receba dois números flutuantes e realize sua adição.\n",
    "numero_01 = float(input(\"Digite o primeiro número: \"))\n",
    "numero_02 = float(input(\"Digite o segundo número: \"))\n",
    "soma = numero_01 + numero_02\n",
    "print(\"A soma dos números é: \", soma)"
   ]
  },
  {
   "cell_type": "code",
   "execution_count": null,
   "id": "25517d1d",
   "metadata": {},
   "outputs": [
    {
     "name": "stdout",
     "output_type": "stream",
     "text": [
      "A média dos números é:  2.4\n"
     ]
    }
   ],
   "source": [
    "# 7. Crie um programa que calcule a média de dois números flutuantes fornecidos pelo usuário.\n",
    "numero_01 = float(input(\"Digite o primeiro número: \"))\n",
    "numero_02 = float(input(\"Digite o segundo número: \"))\n",
    "media = (numero_01 + numero_02)/2\n",
    "print(\"A média dos números é: \", media)"
   ]
  },
  {
   "cell_type": "code",
   "execution_count": null,
   "id": "835dbcb5",
   "metadata": {},
   "outputs": [
    {
     "name": "stdout",
     "output_type": "stream",
     "text": [
      "O resultado da potência é:  4.0\n"
     ]
    }
   ],
   "source": [
    "# 8. Desenvolva um programa que calcule a potência de um número (base e expoente fornecidos pelo usuário).\n",
    "base = float(input(\"Digite a base: \"))\n",
    "expoente = float(input(\"Digite o expoente: \"))\n",
    "potencia = base ** expoente\n",
    "print(\"O resultado da potência é: \", potencia)"
   ]
  },
  {
   "cell_type": "code",
   "execution_count": null,
   "id": "8640b6c5",
   "metadata": {},
   "outputs": [
    {
     "name": "stdout",
     "output_type": "stream",
     "text": [
      "A temperatura 30.0°C equivale a 86.0°F \n"
     ]
    }
   ],
   "source": [
    "# 9. Faça um programa que converta a temperatura de Celsius para Fahrenheit.\n",
    "celsius = float(input(\"Digite a temperatura em Celsius: \"))\n",
    "fahrenheit = (celsius * (9/5)) + 32\n",
    "print(f\"A temperatura {celsius}°C equivale a {fahrenheit}°F \")"
   ]
  },
  {
   "cell_type": "code",
   "execution_count": 18,
   "id": "28231929",
   "metadata": {},
   "outputs": [
    {
     "name": "stdout",
     "output_type": "stream",
     "text": [
      "A área do círculo é de 12.57 m²\n"
     ]
    }
   ],
   "source": [
    "# 10. Escreva um programa que calcule a área de um círculo, recebendo o raio como entrada.\n",
    "import math\n",
    "\n",
    "raio = float(input(\"Digite o raio do círculo: \"))\n",
    "area = math.pi * (raio**2)\n",
    "print(f\"A área do círculo é de {area:.2f} m²\")"
   ]
  },
  {
   "cell_type": "markdown",
   "id": "a562af59",
   "metadata": {},
   "source": [
    "#### Strings (`str`)"
   ]
  },
  {
   "cell_type": "code",
   "execution_count": null,
   "id": "e5a94d2c",
   "metadata": {},
   "outputs": [
    {
     "name": "stdout",
     "output_type": "stream",
     "text": [
      "JORGE\n"
     ]
    }
   ],
   "source": [
    "# 11. Escreva um programa que receba uma string do usuário e a converta para maiúsculas.\n",
    "texto = input(\"Digite um texto: \")\n",
    "texto_maiusculo = texto.upper()\n",
    "print(texto_maiusculo)"
   ]
  },
  {
   "cell_type": "code",
   "execution_count": null,
   "id": "95514abb",
   "metadata": {},
   "outputs": [
    {
     "name": "stdout",
     "output_type": "stream",
     "text": [
      "Nome em minúsculo:  jorge veras\n"
     ]
    }
   ],
   "source": [
    "# 12. Crie um programa que receba o nome completo do usuário e imprima o nome com todas as letras minúsculas.\n",
    "nome_completo = input(\"Digite seu nome completo: \")\n",
    "nome_completo_minusculo = nome_completo.lower()\n",
    "print(\"Nome em minúsculo: \", nome_completo_minusculo)"
   ]
  },
  {
   "cell_type": "code",
   "execution_count": null,
   "id": "1721249d",
   "metadata": {},
   "outputs": [
    {
     "name": "stdout",
     "output_type": "stream",
     "text": [
      "Frase sem espaçõs no início e no final:  Jorge Veras\n"
     ]
    }
   ],
   "source": [
    "# 13. Desenvolva um programa que peça ao usuário para inserir uma frase e, em seguida, imprima esta frase sem espaços em branco no início e no final.\n",
    "frase = input(\"Digite uma frase: \")\n",
    "frase_sem_espaco = frase.strip()\n",
    "print(\"Frase sem espaçõs no início e no final: \", frase_sem_espaco)"
   ]
  },
  {
   "cell_type": "code",
   "execution_count": null,
   "id": "3fc626b9",
   "metadata": {},
   "outputs": [
    {
     "name": "stdout",
     "output_type": "stream",
     "text": [
      "Dia: 09\n",
      "Mês: 08\n",
      "Ano: 1995\n"
     ]
    }
   ],
   "source": [
    "# 14. Faça um programa que peça ao usuário para digitar uma data no formato \"dd/mm/aaaa\" e, em seguida, imprima o dia, o mês e o ano separadamente.\n",
    "data_usuario = input(\"Digite uma data no formato dd/mm/aaaa\")\n",
    "dia, mes, ano = data_usuario.split(\"/\")\n",
    "print(\"Dia:\", dia)\n",
    "print(\"Mês:\", mes)\n",
    "print(\"Ano:\", ano)"
   ]
  },
  {
   "cell_type": "code",
   "execution_count": 24,
   "id": "0dd238c0",
   "metadata": {},
   "outputs": [
    {
     "name": "stdout",
     "output_type": "stream",
     "text": [
      "Texto concatenando:  Jorge Veras\n"
     ]
    }
   ],
   "source": [
    "# 15. Escreva um programa que concatene duas strings fornecidas pelo usuário.\n",
    "texto1 = input(\"Digite o primeiro texto\")\n",
    "texto2 = input(\"Digite o segundo texto\")\n",
    "texto_concatenado = texto1 + texto2\n",
    "print(\"Texto concatenando: \", texto_concatenado)"
   ]
  },
  {
   "cell_type": "markdown",
   "id": "29a3b2ef",
   "metadata": {},
   "source": [
    "#### Booleanos (`bool`)"
   ]
  },
  {
   "cell_type": "code",
   "execution_count": null,
   "id": "92542d1f",
   "metadata": {},
   "outputs": [
    {
     "name": "stdout",
     "output_type": "stream",
     "text": [
      "O resultado logico de AND é: False\n"
     ]
    }
   ],
   "source": [
    "# 16. Escreva um programa que avalie duas expressões booleanas inseridas pelo usuário e retorne o resultado da operação AND entre elas.\n",
    "valor1 = bool(input(\"Digite uma valor booleano True ou False\"))\n",
    "valor2 = bool(input(\"Digite uma valor booleano True ou False\"))\n",
    "resultado_and = valor1 and valor2\n",
    "print(\"O resultado logico de AND é:\", resultado_and)"
   ]
  },
  {
   "cell_type": "code",
   "execution_count": 5,
   "id": "b4f2f874",
   "metadata": {},
   "outputs": [
    {
     "name": "stdout",
     "output_type": "stream",
     "text": [
      "O resultado logico de OR é: True\n"
     ]
    }
   ],
   "source": [
    "# 17. Crie um programa que receba dois valores booleanos do usuário e retorne o resultado da operação OR.\n",
    "valor1 = bool(input(\"Digite uma valor booleano True ou False\"))\n",
    "valor2 = bool(input(\"Digite uma valor booleano True ou False\"))\n",
    "resultado_or = valor1 or valor2\n",
    "print(\"O resultado logico de OR é:\", resultado_or)"
   ]
  },
  {
   "cell_type": "code",
   "execution_count": null,
   "id": "2349eb19",
   "metadata": {},
   "outputs": [
    {
     "name": "stdout",
     "output_type": "stream",
     "text": [
      "O valor booleano invertido é: False\n"
     ]
    }
   ],
   "source": [
    "# 18. Desenvolva um programa que peça ao usuário para inserir um valor booleano e, em seguida, inverta esse valor.\n",
    "valor1 = input(\"Digite uma valor booleano True ou False\")\n",
    "valor_invertido = not valor1\n",
    "print(\"O valor booleano invertido é:\",valor_invertido)\n"
   ]
  },
  {
   "cell_type": "code",
   "execution_count": null,
   "id": "51b2d58c",
   "metadata": {},
   "outputs": [
    {
     "name": "stdout",
     "output_type": "stream",
     "text": [
      "Resultado da igualdade é: False\n"
     ]
    }
   ],
   "source": [
    "# 19. Faça um programa que compare se dois números fornecidos pelo usuário são iguais.\n",
    "valor1 = input(\"Digite uma valor booleano True ou False\")\n",
    "valor2 = input(\"Digite uma valor booleano True ou False\")\n",
    "comparacao = valor1 == valor2\n",
    "print(\"Resultado da igualdade é:\", comparacao)"
   ]
  },
  {
   "cell_type": "code",
   "execution_count": 16,
   "id": "2aa4e641",
   "metadata": {},
   "outputs": [
    {
     "name": "stdout",
     "output_type": "stream",
     "text": [
      "Resultado da diferença é: True\n"
     ]
    }
   ],
   "source": [
    "# 20. Escreva um programa que verifique se dois números fornecidos pelo usuário são diferentes.\n",
    "valor1 = input(\"Digite uma valor booleano True ou False\")\n",
    "valor2 = input(\"Digite uma valor booleano True ou False\")\n",
    "comparacao = valor1 != valor2\n",
    "print(\"Resultado da diferença é:\", comparacao)"
   ]
  },
  {
   "cell_type": "code",
   "execution_count": null,
   "id": "5d020a5b",
   "metadata": {},
   "outputs": [],
   "source": []
  }
 ],
 "metadata": {
  "kernelspec": {
   "display_name": "Python 3",
   "language": "python",
   "name": "python3"
  },
  "language_info": {
   "codemirror_mode": {
    "name": "ipython",
    "version": 3
   },
   "file_extension": ".py",
   "mimetype": "text/x-python",
   "name": "python",
   "nbconvert_exporter": "python",
   "pygments_lexer": "ipython3",
   "version": "3.13.6"
  }
 },
 "nbformat": 4,
 "nbformat_minor": 5
}
